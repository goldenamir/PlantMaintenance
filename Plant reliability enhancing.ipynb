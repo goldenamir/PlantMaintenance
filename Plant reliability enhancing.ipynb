{
 "cells": [
  {
   "cell_type": "markdown",
   "metadata": {},
   "source": [
    "# Enhancing plant reliability through vibration measurement  and analyses\n",
    "Presented by Jyoti K. Sinha"
   ]
  },
  {
   "cell_type": "markdown",
   "metadata": {},
   "source": [
    "Some berief information about the Manchester has been given. \n"
   ]
  },
  {
   "cell_type": "markdown",
   "metadata": {},
   "source": [
    "Reliability design qualifications\n",
    "Robust health montoring (accurate predicitve approach)"
   ]
  },
  {
   "cell_type": "markdown",
   "metadata": {},
   "source": [
    "Some failure of strucutre has been shown"
   ]
  },
  {
   "cell_type": "markdown",
   "metadata": {},
   "source": [
    "Human and machines viberation difference has been presented in the figure below:"
   ]
  },
  {
   "cell_type": "markdown",
   "metadata": {},
   "source": [
    "#### Role of viberation in the different aspects:"
   ]
  },
  {
   "cell_type": "markdown",
   "metadata": {},
   "source": [
    "Viberation measurement and analyses:"
   ]
  },
  {
   "cell_type": "markdown",
   "metadata": {},
   "source": [
    "## Design qulaification:\n",
    "- static qualification\n",
    "- dynamic qualification\n",
    "- seismic qualification\n",
    "- design optimization to meet the design requirement"
   ]
  },
  {
   "cell_type": "markdown",
   "metadata": {},
   "source": [
    "Sesimimc qualification image has been shown as below:"
   ]
  },
  {
   "cell_type": "markdown",
   "metadata": {},
   "source": [
    "## Dynamic qualification\n",
    "- in-service loads:\n",
    " - flow - induced excitation\n",
    " "
   ]
  },
  {
   "cell_type": "markdown",
   "metadata": {},
   "source": [
    "## Design optimization"
   ]
  },
  {
   "cell_type": "markdown",
   "metadata": {},
   "source": [
    "* Frequency band and its measurement can be utilized in this stage.\n",
    "* Contact detection should be done in any stage of life duration of any assets.\n",
    " *It has been mentioned the Machine Learning methods have been applied and ANN prediction was 100 percent accuracy, yet new test the ANN could not classify it appropirately. In this case, it has been suggested to use PHYSICAL MODELS with machine learning methods.\n"
   ]
  },
  {
   "cell_type": "markdown",
   "metadata": {},
   "source": [
    "## Exisiting approaches for handling the issue of viberation\n",
    "![image of exisiting approaches]()\n"
   ]
  },
  {
   "cell_type": "markdown",
   "metadata": {},
   "source": [
    "## Concluding remarks:\n",
    "- Examples demonstrate the usefulness of viberation measurements and analyses in different industrial applications to enhance plant reliability."
   ]
  },
  {
   "cell_type": "markdown",
   "metadata": {},
   "source": []
  }
 ],
 "metadata": {
  "kernelspec": {
   "display_name": "Python 3",
   "language": "python",
   "name": "python3"
  },
  "language_info": {
   "codemirror_mode": {
    "name": "ipython",
    "version": 3
   },
   "file_extension": ".py",
   "mimetype": "text/x-python",
   "name": "python",
   "nbconvert_exporter": "python",
   "pygments_lexer": "ipython3",
   "version": "3.6.5"
  }
 },
 "nbformat": 4,
 "nbformat_minor": 2
}
